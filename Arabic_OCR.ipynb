{
  "cells": [
    {
      "cell_type": "markdown",
      "metadata": {
        "id": "view-in-github",
        "colab_type": "text"
      },
      "source": [
        "<a href=\"https://colab.research.google.com/github/NjoodJ/Arabic-OCR/blob/main/Arabic_OCR.ipynb\" target=\"_parent\"><img src=\"https://colab.research.google.com/assets/colab-badge.svg\" alt=\"Open In Colab\"/></a>"
      ]
    },
    {
      "cell_type": "code",
      "source": [
        "pip install PyPDF2"
      ],
      "metadata": {
        "colab": {
          "base_uri": "https://localhost:8080/"
        },
        "id": "Y56Y0myhbSBl",
        "outputId": "4fdbe5e0-7b7e-460e-a330-6937009687d1"
      },
      "execution_count": 2,
      "outputs": [
        {
          "output_type": "stream",
          "name": "stdout",
          "text": [
            "Collecting PyPDF2\n",
            "  Downloading pypdf2-3.0.1-py3-none-any.whl (232 kB)\n",
            "\u001b[2K     \u001b[90m━━━━━━━━━━━━━━━━━━━━━━━━━━━━━━━━━━━━━━━━\u001b[0m \u001b[32m232.6/232.6 kB\u001b[0m \u001b[31m4.6 MB/s\u001b[0m eta \u001b[36m0:00:00\u001b[0m\n",
            "\u001b[?25hInstalling collected packages: PyPDF2\n",
            "Successfully installed PyPDF2-3.0.1\n"
          ]
        }
      ]
    },
    {
      "cell_type": "code",
      "execution_count": 9,
      "metadata": {
        "colab": {
          "base_uri": "https://localhost:8080/"
        },
        "id": "OrrPlaF-a91O",
        "outputId": "1f407e22-a546-4b35-f087-373e6a7e0b5b"
      },
      "outputs": [
        {
          "output_type": "stream",
          "name": "stdout",
          "text": [
            "ما هي األرقام العربية؟  \n",
            "كلمة \"أرقام\" لفظ يُستخدم للتعبير عن الرموز المستخدمة للتعبير عن األعداد، واألرقام العربية هي األرقام التي  \n",
            "طورها الرياضيون العرب، واستخدمها العرب وانتقلت منهم ألوروبا عندما نقلها البابا \"سلفيستر الثاني\" الذي \n",
            "درس في جامعة القرويين، ولذلك يُطلق عليه البعض \"بابا األرقام\"  .  \n",
            "في الموضوع التالي نستعرض األرقم وأنواعها في الحضارات المختلفة، ونعرّ األرقام اليونانية والهندية \n",
            "والعربية وغيرها من األرقام.  \n",
            "أنواع األرقام التي يعرفها العرب ؟  \n",
            "يعرف العرب نوعين من األرقام، وهما:  \n",
            "• األرقام العربية المشرقية التي ال تزل حاضرة في بالد المشرق العربي، وهي (٠ - ١ - ٢ -  \n",
            "٣ - ٤ - ٥ - ٦ -  ٧ - ٨ -  ٩).  \n",
            "• األرقام العربية المغربية (الغبارية) المستخدمة في بالد المغرب العربي، وهي (0 - 1- 2 -  \n",
            "3 - 4 - 5 - 6 - 7 - 8 - 9) .  \n",
            " تُستخدم األرقام العربية في كثيرمن اللغات لإلشارة إلى األعداد؛ ألنها انتقلت إلى أوروبا في القرن السادس   \n",
            "الميالدي من بالد المغرب العربي في غرب إفريقيا التي تستعمل األرقام العربية المغربية، والتي يظن الكثير منا  \n",
            "أنها األرقام اإلنجليزية ولكنها في األصل هي األرقام العربية.  \n",
            "ظهور األرقام عند الع رب  \n",
            "اهتم العرب قديمًا بالعلوم، وكان من بينهم أشهر وأهم العلماء في شتى العلوم والمجاالت، فقد كان للعرب السبق \n",
            "واألحياء وغيرها من العلوم التي قامت عليها عصور والفلك والكيمياء  الهندسةو في علوم الرياضيات والجبر \n",
            "النهضة.  \n",
            "استخدم العرب قبل األرقام الخط المُسند وحساب الجمل، ويعني استخدام األرقام مكتوبة بالحروف عند تسجيل \n",
            "التواريخ واألرقام، فقد  كان العرب قبل ظهور األرقام يستخدمون الكلمات للداللة على األرقام، فيكتبون األعداد \n",
            "بالحروف، وقد استمر األمر هكذا طويالً إلى عصر الخليفة العباسي \"أبو جعفر المنصور\" الذي بدأ فيه العرب \n",
            "استخدام األرقام الهندية بدالً من كتابة األعداد باألحرف وما كان يترتب عليها من صعوبات.   \n",
            "ففي عام   ٧٢٧ م جاء إلى بالط الخليفة العباسي \"أبو جعفر المنصور\" عالم فلك هندي ومعه كتاب مشهور في \n",
            "الفلك والرياضيات وهو \"سدهانتا\" للمؤلف \"براهما جوبتا\" الذي ألفه عام  628   واستخدم فيه األرقام من واحد\n",
            "إلى تسعة، وقد أمر الخليفة العباسي بترجمته ومن هنا عرف العرب األرقام ولكن لم يكن الصفر من بينها؛ حيث  \n",
            "أنه لم يكن قد تم اكتشافه واستخدا مه بعد.  \n",
            "ثم جاء بعد ذلك العالم العربي الشهير \"الخوارزمي\" وقد استفاد من ترجمة كتاب \"سندهانتا\" الذي يعرض \n",
            "األرقام الهندية في األزياج \"كتب الفلك\" وأصدر رسالة في عام 825  م أسماها \"الخوارزمي عن األرقام\n",
            "الهندية\"، وكان ذلك في عهد الخليفة المأمون.  \n",
            " \n"
          ]
        }
      ],
      "source": [
        "from PyPDF2 import PdfReader\n",
        "\n",
        "path= (r'/content/test.pdf')\n",
        "if '.pdf' in path:\n",
        "\n",
        "            pdf_reader = PdfReader(r'/content/test.pdf')\n",
        "            pages = len(pdf_reader.pages)\n",
        "            full_text =[]\n",
        "\n",
        "            for i in range(pages):\n",
        "                page = pdf_reader.pages[i]\n",
        "\n",
        "                try:\n",
        "                    text = page.extract_text()\n",
        "                    print(text)\n",
        "                    full_text.append(text)\n",
        "\n",
        "                except:\n",
        "                    print(\"_____________________________________________________\")\n",
        "\n",
        "            full_text_cleaned = []\n",
        "\n",
        "            for text in full_text:\n",
        "                full_text_cleaned.append(text)\n",
        "\n",
        "            full_text_cleaned = \" \".join(full_text_cleaned)\n",
        "\n",
        "            file = open('/content/Text_read', 'w')\n",
        "\n",
        "            file.write(full_text_cleaned)"
      ]
    }
  ],
  "metadata": {
    "kernelspec": {
      "display_name": "Classification",
      "language": "python",
      "name": "python3"
    },
    "language_info": {
      "codemirror_mode": {
        "name": "ipython",
        "version": 3
      },
      "file_extension": ".py",
      "mimetype": "text/x-python",
      "name": "python",
      "nbconvert_exporter": "python",
      "pygments_lexer": "ipython3",
      "version": "3.8.17"
    },
    "colab": {
      "provenance": [],
      "include_colab_link": true
    }
  },
  "nbformat": 4,
  "nbformat_minor": 0
}